{
 "cells": [
  {
   "cell_type": "code",
   "execution_count": 1,
   "metadata": {},
   "outputs": [],
   "source": [
    "import sys\n",
    "sys.path.append('../src')\n",
    "sys.path.append('../submissions')\n",
    "\n",
    "import pandas as pd\n",
    "import numpy as np\n",
    "import matplotlib.pyplot as plt\n",
    "import seaborn as sns\n",
    "from pathlib import Path\n",
    "from load import load_train_data, load_test_data\n",
    "from evaluate import evaluate_model\n",
    "from submit import save_submission\n",
    "\n",
    "pd.set_option('display.max_columns', None)"
   ]
  },
  {
   "cell_type": "code",
   "execution_count": 2,
   "metadata": {},
   "outputs": [],
   "source": [
    "from sklearn.model_selection import train_test_split\n",
    "from sklearn.preprocessing import OneHotEncoder\n",
    "from sklearn.preprocessing import MinMaxScaler\n",
    "from sklearn.compose import ColumnTransformer\n",
    "from sklearn.pipeline import Pipeline\n",
    "from sklearn.linear_model import LogisticRegression\n",
    "from sklearn.metrics import f1_score"
   ]
  },
  {
   "cell_type": "code",
   "execution_count": 3,
   "metadata": {},
   "outputs": [],
   "source": [
    "# Load training data\n",
    "train_data = load_train_data(local=True)"
   ]
  },
  {
   "cell_type": "code",
   "execution_count": 4,
   "metadata": {},
   "outputs": [],
   "source": [
    "# Drop geo_level columns\n",
    "cols_to_drop = ['geo_level_1_id', 'geo_level_2_id', 'geo_level_3_id']\n",
    "train_data = train_data.drop(columns=cols_to_drop)"
   ]
  },
  {
   "cell_type": "code",
   "execution_count": 5,
   "metadata": {},
   "outputs": [],
   "source": [
    "# Prepare data for preprocessing and modelling\n",
    "TARGET = 'damage_grade'\n",
    "\n",
    "X = train_data.copy()\n",
    "y = train_data.pop(TARGET)"
   ]
  },
  {
   "cell_type": "code",
   "execution_count": 6,
   "metadata": {},
   "outputs": [],
   "source": [
    "# Split into train and validation sets\n",
    "X_train, X_valid, y_train, y_valid = train_test_split(X, y, test_size=0.2,\n",
    "                                                      stratify=y,\n",
    "                                                      random_state=42)"
   ]
  },
  {
   "cell_type": "code",
   "execution_count": 7,
   "metadata": {},
   "outputs": [],
   "source": [
    "# Create a basic preprocessing transformer\n",
    "cols_numerical = ['count_floors_pre_eq', 'age', 'area_percentage', 'height_percentage']\n",
    "cols_categorical = train_data.select_dtypes(include='object').columns\n",
    "\n",
    "base_preprocess = ColumnTransformer([\n",
    "    ('onehot', OneHotEncoder(), cols_categorical),\n",
    "    ('scale', MinMaxScaler(), cols_numerical)\n",
    "])"
   ]
  },
  {
   "cell_type": "code",
   "execution_count": 8,
   "metadata": {},
   "outputs": [
    {
     "name": "stdout",
     "output_type": "stream",
     "text": [
      "F1-score of the base model: 0.576\n"
     ]
    }
   ],
   "source": [
    "# Create a basic pipeline with preprocessing and fitting a logistic regression model\n",
    "logistic_regression = LogisticRegression(multi_class='multinomial', max_iter=500, random_state=42)\n",
    "\n",
    "base_pipe = Pipeline(steps=[\n",
    "    ('preprocess', base_preprocess),\n",
    "    ('base_model', logistic_regression)\n",
    "])\n",
    "\n",
    "# Evaluate model performance with base model Logistic Regression\n",
    "base_score = evaluate_model(base_pipe, X_train, X_valid, y_train, y_valid)\n",
    "print(f\"F1-score of the base model: {base_score :.3f}\")"
   ]
  },
  {
   "cell_type": "code",
   "execution_count": 9,
   "metadata": {},
   "outputs": [],
   "source": [
    "# Load test data and save predictions into a file for submission\n",
    "test_data = load_test_data(local=True)\n",
    "save_submission(base_pipe, test_data,)"
   ]
  },
  {
   "cell_type": "code",
   "execution_count": null,
   "metadata": {},
   "outputs": [],
   "source": []
  }
 ],
 "metadata": {
  "kernelspec": {
   "display_name": "dsr-python",
   "language": "python",
   "name": "python3"
  },
  "language_info": {
   "codemirror_mode": {
    "name": "ipython",
    "version": 3
   },
   "file_extension": ".py",
   "mimetype": "text/x-python",
   "name": "python",
   "nbconvert_exporter": "python",
   "pygments_lexer": "ipython3",
   "version": "3.10.13"
  }
 },
 "nbformat": 4,
 "nbformat_minor": 2
}
