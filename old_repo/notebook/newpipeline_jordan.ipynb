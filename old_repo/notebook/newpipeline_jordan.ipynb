{
 "cells": [
  {
   "cell_type": "code",
   "execution_count": 1,
   "metadata": {},
   "outputs": [],
   "source": [
    "import sys\n",
    "sys.path.append('../src')\n",
    "sys.path.append('../submissions')\n",
    "\n",
    "import pandas as pd\n",
    "import numpy as np\n",
    "import matplotlib.pyplot as plt\n",
    "import seaborn as sns\n",
    "from pathlib import Path\n",
    "# from clean import remove_missing_values\n",
    "from evaluate import evaluate_model\n",
    "from utils import save_submission, load_train_data, load_test_data\n",
    "\n",
    "pd.set_option('display.max_columns', None)"
   ]
  },
  {
   "cell_type": "code",
   "execution_count": 2,
   "metadata": {},
   "outputs": [],
   "source": [
    "from sklearn.model_selection import train_test_split\n",
    "from sklearn.preprocessing import OneHotEncoder, TargetEncoder\n",
    "from sklearn.preprocessing import FunctionTransformer, MinMaxScaler\n",
    "from sklearn.compose import ColumnTransformer\n",
    "from sklearn.pipeline import Pipeline\n",
    "from sklearn.metrics import f1_score\n",
    "from sklearn.linear_model import LogisticRegression\n",
    "from sklearn.ensemble import GradientBoostingClassifier\n",
    "from xgboost import XGBClassifier"
   ]
  },
  {
   "cell_type": "code",
   "execution_count": 3,
   "metadata": {},
   "outputs": [],
   "source": [
    "# Load training data\n",
    "train_data = load_train_data(local=True)"
   ]
  },
  {
   "cell_type": "code",
   "execution_count": 4,
   "metadata": {},
   "outputs": [
    {
     "data": {
      "text/plain": [
       "True"
      ]
     },
     "execution_count": 4,
     "metadata": {},
     "output_type": "execute_result"
    }
   ],
   "source": [
    "\n",
    "cols_numerical = ['count_floors_pre_eq', 'age', 'area_percentage', \n",
    "                  'height_percentage', 'count_families']\n",
    "\n",
    "cols_categorical_geo = ['geo_level_1_id', 'geo_level_2_id', 'geo_level_3_id']\n",
    "\n",
    "cols_categorical_type = ['foundation_type', 'roof_type', 'ground_floor_type', \n",
    "                         'other_floor_type']\n",
    "\n",
    "cols_categorical_other = ['land_surface_condition', 'position', \n",
    "                          'plan_configuration', 'legal_ownership_status']\n",
    "\n",
    "cols_dummy_superstructure = ['has_superstructure_adobe_mud',\n",
    "                             'has_superstructure_mud_mortar_stone', \n",
    "                             'has_superstructure_stone_flag',\n",
    "                             'has_superstructure_cement_mortar_stone',\n",
    "                             'has_superstructure_mud_mortar_brick',\n",
    "                             'has_superstructure_cement_mortar_brick', \n",
    "                             'has_superstructure_timber',\n",
    "                             'has_superstructure_bamboo', \n",
    "                             'has_superstructure_rc_non_engineered',\n",
    "                             'has_superstructure_rc_engineered',\n",
    "                             'has_superstructure_other']\n",
    "\n",
    "cols_dummy_use = ['has_secondary_use', 'has_secondary_use_agriculture',\n",
    "                  'has_secondary_use_hotel', 'has_secondary_use_rental',\n",
    "                  'has_secondary_use_institution', 'has_secondary_use_school', \n",
    "                  'has_secondary_use_industry', 'has_secondary_use_health_post',\n",
    "                  'has_secondary_use_gov_office', 'has_secondary_use_use_police', \n",
    "                  'has_secondary_use_other']\n",
    "\n",
    "# Sanity check: all features in the dataset\n",
    "len(cols_numerical + cols_categorical_geo + cols_categorical_type + \\\n",
    "    cols_categorical_other + cols_dummy_superstructure + cols_dummy_use) == (train_data.shape[1] - 1)"
   ]
  },
  {
   "cell_type": "code",
   "execution_count": 5,
   "metadata": {},
   "outputs": [
    {
     "data": {
      "text/plain": [
       "(259211, 39)"
      ]
     },
     "execution_count": 5,
     "metadata": {},
     "output_type": "execute_result"
    }
   ],
   "source": [
    "from clean import remove_age_na\n",
    "\n",
    "# Remove entries where building age is 995\n",
    "train_data = remove_age_na(train_data, na_value=995)\n",
    "train_data.shape"
   ]
  },
  {
   "cell_type": "code",
   "execution_count": 6,
   "metadata": {},
   "outputs": [],
   "source": [
    "# from clean import remove_age_old\n",
    "\n",
    "# # Remove entries where building age is older than 100 years\n",
    "# train_data = remove_age_old(train_data, age_limit=100)\n",
    "# train_data.shape"
   ]
  },
  {
   "cell_type": "code",
   "execution_count": 7,
   "metadata": {},
   "outputs": [],
   "source": [
    "# from clean import remove_high_floors\n",
    "# # Remove entries where buildings have more than 3 floors (before earthquake)\n",
    "# train_data = remove_high_floors(train_data)\n",
    "# train_data.shape"
   ]
  },
  {
   "cell_type": "code",
   "execution_count": 8,
   "metadata": {},
   "outputs": [],
   "source": [
    "# Subset of columns to keep for fitting the model\n",
    "cols_to_keep = ['count_floors_pre_eq', 'age', 'area_percentage', \n",
    "                'height_percentage',\n",
    "                'geo_level_1_id', 'geo_level_2_id', 'geo_level_3_id',\n",
    "                'foundation_type', 'roof_type', 'ground_floor_type', \n",
    "                'other_floor_type',\n",
    "                'land_surface_condition', 'position', \n",
    "                'plan_configuration', 'legal_ownership_status',\n",
    "                # 'has_superstructure_mud_mortar_stone', \n",
    "                # 'has_superstructure_cement_mortar_brick', \n",
    "                # 'has_superstructure_timber',\n",
    "                # 'has_secondary_use', 'has_secondary_use_agriculture',\n",
    "                # 'has_secondary_use_hotel', 'has_secondary_use_rental',\n",
    "                # 'has_secondary_use_institution', 'has_secondary_use_school', \n",
    "                # 'has_secondary_use_industry', 'has_secondary_use_health_post',\n",
    "                # 'has_secondary_use_gov_office', 'has_secondary_use_use_police', \n",
    "                # 'has_secondary_use_other',\n",
    "                'damage_grade']\n",
    "\n",
    "train_data = train_data[cols_to_keep].copy()"
   ]
  },
  {
   "cell_type": "code",
   "execution_count": 9,
   "metadata": {},
   "outputs": [],
   "source": [
    "# Prepare data for preprocessing and modelling\n",
    "TARGET = 'damage_grade'\n",
    "\n",
    "X = train_data.copy()\n",
    "y = train_data.pop(TARGET)"
   ]
  },
  {
   "cell_type": "code",
   "execution_count": 10,
   "metadata": {},
   "outputs": [],
   "source": [
    "# Split into train and validation sets\n",
    "X_train, X_valid, y_train, y_valid = train_test_split(X, y, test_size=0.2,\n",
    "                                                      stratify=y,\n",
    "                                                      random_state=42)"
   ]
  },
  {
   "cell_type": "code",
   "execution_count": 11,
   "metadata": {},
   "outputs": [],
   "source": [
    "# Define list of columns for each pre-processing step\n",
    "cols_ohe = cols_categorical_type + cols_categorical_other\n",
    "cols_target_enc = cols_categorical_geo # ['geo_level_1_id', 'geo_level_2_id'] # ['geo_level_1_id']  \n",
    "cols_log_transf = ['age', 'area_percentage', 'height_percentage']\n",
    "cols_to_scale = ['count_floors_pre_eq', 'age', 'area_percentage', 'height_percentage']\n",
    "\n",
    "# Create a pipeline for preprocessing data\n",
    "preprocess = ColumnTransformer([\n",
    "    ('onehot_encoder', OneHotEncoder(), cols_ohe),\n",
    "    ('target_encoder', TargetEncoder(target_type=\"multiclass\"), cols_target_enc),\n",
    "    ('log_transform', FunctionTransformer(np.log1p), cols_log_transf),\n",
    "    ('min_max_scaler', MinMaxScaler(), cols_to_scale),\n",
    "])"
   ]
  },
  {
   "cell_type": "code",
   "execution_count": 14,
   "metadata": {},
   "outputs": [
    {
     "name": "stdout",
     "output_type": "stream",
     "text": [
      "F1-score of LogisticRegression model (valid): 0.691\n"
     ]
    }
   ],
   "source": [
    "# Evaluate performance of Logistic Regression model\n",
    "log_reg = LogisticRegression(penalty='l2', multi_class='multinomial', \n",
    "                             max_iter=1000, random_state=42)  #  class_weight='balanced',\n",
    "                            \n",
    "\n",
    "base_pipe = Pipeline(steps=[\n",
    "    ('preprocess', preprocess),\n",
    "    ('base_model', log_reg)\n",
    "])\n",
    "\n",
    "base_score_valid, base_score_train = evaluate_model(base_pipe, \n",
    "                                                    X_train, X_valid, \n",
    "                                                    y_train, y_valid)\n",
    "\n",
    "print(f\"F1-score of LogisticRegression model (valid): {base_score_valid :.3f}\")"
   ]
  },
  {
   "cell_type": "code",
   "execution_count": null,
   "metadata": {},
   "outputs": [
    {
     "name": "stdout",
     "output_type": "stream",
     "text": [
      "F1-score of XGBoost model (valid): 0.740\n"
     ]
    }
   ],
   "source": [
    "# Evaluate performance of XGBoostClassifier model\n",
    "xgboost = XGBClassifier(learning_rate=0.1, n_estimators=100, random_state=42)\n",
    "\n",
    "xgb_pipe = Pipeline(steps=[\n",
    "    ('preprocess', preprocess),\n",
    "    ('xgb_model', xgboost)\n",
    "])\n",
    "\n",
    "xgb_score_valid, xgb_score_train = evaluate_model(xgb_pipe, \n",
    "                                                  X_train, X_valid,\n",
    "                                                  y_train-1, y_valid-1)\n",
    "\n",
    "print(f\"F1-score of XGBoost model (valid): {xgb_score_valid :.3f}\")"
   ]
  },
  {
   "cell_type": "code",
   "execution_count": null,
   "metadata": {},
   "outputs": [],
   "source": [
    "# Evaluate performance of GradientBoostingClassifier model\n",
    "# gboostc = GradientBoostingClassifier(learning_rate=0.1, n_estimators=100, random_state=42)\n",
    "\n",
    "# gbc_pipe = Pipeline(steps=[\n",
    "#     ('preprocess', preprocess),\n",
    "#     ('gbc_model', gboostc)\n",
    "# ])\n",
    "\n",
    "# gbc_score_valid, gbc_score_train = evaluate_model(gbc_pipe, \n",
    "#                                                   X_train, X_valid,\n",
    "#                                                   y_train, y_valid)\n",
    "\n",
    "# print(f\"F1-score of GradBoostClassifier model (valid): {gbc_score_valid :.3f}\")"
   ]
  },
  {
   "cell_type": "code",
   "execution_count": null,
   "metadata": {},
   "outputs": [],
   "source": [
    "# Load test data and save predictions into a file for submission\n",
    "# test_data = load_test_data(local=True)\n",
    "# save_submission(base_pipe, test_data)"
   ]
  },
  {
   "cell_type": "code",
   "execution_count": null,
   "metadata": {},
   "outputs": [],
   "source": []
  }
 ],
 "metadata": {
  "kernelspec": {
   "display_name": "dsr-python",
   "language": "python",
   "name": "python3"
  },
  "language_info": {
   "codemirror_mode": {
    "name": "ipython",
    "version": 3
   },
   "file_extension": ".py",
   "mimetype": "text/x-python",
   "name": "python",
   "nbconvert_exporter": "python",
   "pygments_lexer": "ipython3",
   "version": "3.10.13"
  }
 },
 "nbformat": 4,
 "nbformat_minor": 2
}
