{
 "cells": [
  {
   "cell_type": "code",
   "execution_count": 1,
   "metadata": {},
   "outputs": [],
   "source": [
    "import sys\n",
    "sys.path.append('../src')\n",
    "sys.path.append('../submissions')\n",
    "\n",
    "import pandas as pd\n",
    "import numpy as np\n",
    "import matplotlib.pyplot as plt\n",
    "import seaborn as sns\n",
    "from pathlib import Path\n",
    "from clean import remove_missing_values\n",
    "from evaluate import evaluate_model\n",
    "from utils import save_submission, load_train_data, load_test_data\n",
    "\n",
    "pd.set_option('display.max_columns', None)"
   ]
  },
  {
   "cell_type": "code",
   "execution_count": 2,
   "metadata": {},
   "outputs": [],
   "source": [
    "from sklearn.model_selection import train_test_split\n",
    "import category_encoders as ce\n",
    "from sklearn.preprocessing import OneHotEncoder, TargetEncoder, FunctionTransformer\n",
    "from sklearn.preprocessing import MinMaxScaler\n",
    "from sklearn.compose import ColumnTransformer\n",
    "from sklearn.pipeline import Pipeline\n",
    "from sklearn.linear_model import LogisticRegression\n",
    "from sklearn.ensemble import GradientBoostingClassifier\n",
    "from xgboost import XGBClassifier\n",
    "from sklearn.metrics import f1_score"
   ]
  },
  {
   "cell_type": "code",
   "execution_count": 3,
   "metadata": {},
   "outputs": [],
   "source": [
    "# Load training data\n",
    "train_data = load_train_data(local=True)"
   ]
  },
  {
   "cell_type": "code",
   "execution_count": 4,
   "metadata": {},
   "outputs": [],
   "source": [
    "# Remove entries where building age is 995\n",
    "train_data = remove_missing_values(train_data)"
   ]
  },
  {
   "cell_type": "code",
   "execution_count": 5,
   "metadata": {},
   "outputs": [
    {
     "data": {
      "text/plain": [
       "array([  1927,   1938,   2041,   2227,   2296,   2647,   2653,   2942,\n",
       "         3095,   3167,   4093,   6342,   6446,   9715,  18679,  24791,\n",
       "        25720,  36012, 100439])"
      ]
     },
     "execution_count": 5,
     "metadata": {},
     "output_type": "execute_result"
    }
   ],
   "source": [
    "# Feature engineering on building type\n",
    "cols_building_type = [col for col in train_data.columns if 'type' in col]\n",
    "train_data['all_type'] = train_data[cols_building_type].sum(axis=1)\n",
    "train_data.drop(columns=cols_building_type)\n",
    "\n",
    "transf_type = ColumnTransformer([\n",
    "    ('transf_type', ce.CountEncoder(min_group_size=1700), 'all_type')\n",
    "])\n",
    "\n",
    "train_data['all_type'] = transf_type.fit_transform(train_data).flatten()\n",
    "np.sort(train_data['all_type'].unique())"
   ]
  },
  {
   "cell_type": "code",
   "execution_count": 6,
   "metadata": {},
   "outputs": [],
   "source": [
    "# Prepare data for preprocessing and modelling\n",
    "TARGET = 'damage_grade'\n",
    "\n",
    "X = train_data.copy()\n",
    "y = train_data.pop(TARGET)"
   ]
  },
  {
   "cell_type": "code",
   "execution_count": 7,
   "metadata": {},
   "outputs": [],
   "source": [
    "# Split into train and validation sets\n",
    "X_train, X_valid, y_train, y_valid = train_test_split(X, y, test_size=0.2,\n",
    "                                                      stratify=y,\n",
    "                                                      random_state=42)"
   ]
  },
  {
   "cell_type": "code",
   "execution_count": 8,
   "metadata": {},
   "outputs": [],
   "source": [
    "# Create a pipeline for preprocessing data\n",
    "cols_numerical = ['count_floors_pre_eq', 'age', 'area_percentage', 'height_percentage']\n",
    "\n",
    "cols_one_hot_encode = ['foundation_type', 'roof_type', 'ground_floor_type', \n",
    "                       'other_floor_type', 'land_surface_condition', 'position',\n",
    "                       'plan_configuration', 'legal_ownership_status']\n",
    "\n",
    "cols_target_encode = ['geo_level_1_id', 'geo_level_2_id', 'geo_level_3_id']\n",
    "\n",
    "cols_frequency_encode = ['geo_level_2_id', 'geo_level_3_id']\n",
    "\n",
    "cols_log_transform = ['age', 'area_percentage', 'height_percentage']\n",
    "\n",
    "def freq_encode(df):\n",
    "    return pd.concat([df[col].map(df[col].value_counts(normalize=True)) for col in cols_frequency_encode], axis=1)\n",
    "\n",
    "def get_house_volume(df):\n",
    "    df.loc[:, \"house_volume\"] = df[\"area_percentage\"] * df[\"height_percentage\"]\n",
    "    return df\n",
    "\n",
    "preprocess = ColumnTransformer([\n",
    "    ('onehot_encoder', OneHotEncoder(), cols_one_hot_encode),\n",
    "    ('target_encoder', TargetEncoder(target_type=\"multiclass\"), cols_target_encode),\n",
    "    ('frequency_encoder', FunctionTransformer(freq_encode) , cols_frequency_encode),\n",
    "    ('log_transform', FunctionTransformer(np.log1p), cols_log_transform),\n",
    "    ('min_max_scaler', MinMaxScaler(), cols_numerical),\n",
    "    # ('f_e_house_volume', FunctionTransformer(get_house_volume, validate=False), ['area_percentage', 'height_percentage'])\n",
    "])"
   ]
  },
  {
   "cell_type": "code",
   "execution_count": 9,
   "metadata": {},
   "outputs": [],
   "source": [
    "# Evaluate performance of base model\n",
    "# log_reg = LogisticRegression(multi_class='multinomial', max_iter=1000, random_state=42)\n",
    "\n",
    "# base_pipe = Pipeline(steps=[\n",
    "#     ('preprocess', preprocess),\n",
    "#     ('base_model', log_reg)\n",
    "# ])\n",
    "\n",
    "# base_score_valid, base_score_train = evaluate_model(base_pipe, X_train, X_valid, y_train, y_valid)\n",
    "# print(f\"F1-score (valid): {base_score_valid :.3f}\")"
   ]
  },
  {
   "cell_type": "code",
   "execution_count": 10,
   "metadata": {},
   "outputs": [
    {
     "name": "stdout",
     "output_type": "stream",
     "text": [
      "F1-score: 0.741\n"
     ]
    }
   ],
   "source": [
    "# Evaluate performance of base model\n",
    "xgboost = XGBClassifier(learning_rate=0.1, n_estimators=100, random_state=42)\n",
    "\n",
    "xgb_pipe = Pipeline(steps=[\n",
    "    ('preprocess', preprocess),\n",
    "    ('xgb_model', xgboost)\n",
    "])\n",
    "\n",
    "xgb_score_valid, xgb_score_train = evaluate_model(xgb_pipe, X_train, X_valid, y_train-1, y_valid-1)\n",
    "print(f\"F1-score: {xgb_score_valid :.3f}\")"
   ]
  },
  {
   "cell_type": "code",
   "execution_count": 11,
   "metadata": {},
   "outputs": [],
   "source": [
    "# Evaluate performance of base model\n",
    "# gboostc = GradientBoostingClassifier(learning_rate=0.1, n_estimators=100, random_state=42)\n",
    "\n",
    "# gbc_pipe = Pipeline(steps=[\n",
    "#     ('preprocess', preprocess),\n",
    "#     ('gbc_model', gboostc)\n",
    "# ])\n",
    "\n",
    "# gbc_score = evaluate_model(gbc_pipe, X_train, X_valid, y_train, y_valid)\n",
    "# print(f\"F1-score: {gbc_score :.3f}\")"
   ]
  },
  {
   "cell_type": "code",
   "execution_count": 12,
   "metadata": {},
   "outputs": [],
   "source": [
    "# Load test data and save predictions into a file for submission\n",
    "# test_data = load_test_data(local=True)\n",
    "# save_submission(base_pipe, test_data)"
   ]
  },
  {
   "cell_type": "code",
   "execution_count": null,
   "metadata": {},
   "outputs": [],
   "source": []
  }
 ],
 "metadata": {
  "kernelspec": {
   "display_name": "dsr-python",
   "language": "python",
   "name": "python3"
  },
  "language_info": {
   "codemirror_mode": {
    "name": "ipython",
    "version": 3
   },
   "file_extension": ".py",
   "mimetype": "text/x-python",
   "name": "python",
   "nbconvert_exporter": "python",
   "pygments_lexer": "ipython3",
   "version": "3.10.13"
  }
 },
 "nbformat": 4,
 "nbformat_minor": 2
}
